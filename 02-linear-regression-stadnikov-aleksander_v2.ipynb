{
 "cells": [
  {
   "cell_type": "code",
   "execution_count": 1,
   "metadata": {},
   "outputs": [],
   "source": [
    "import numpy as np\n",
    "import seaborn as sns\n",
    "import matplotlib.pyplot as plt\n",
    "from scipy import stats\n",
    "import pandas as pd"
   ]
  },
  {
   "cell_type": "code",
   "execution_count": 2,
   "metadata": {},
   "outputs": [],
   "source": [
    "n = 1000\n",
    "a, b = -2, 0.5\n",
    "sigmasqaure = 0.1\n",
    "x = np.linspace(0, 1,num=n)\n",
    "y = a * x + b + np.random.normal(scale=sigmasqaure**(1/2), size=n)"
   ]
  },
  {
   "cell_type": "markdown",
   "metadata": {},
   "source": [
    "## Generation Data"
   ]
  },
  {
   "cell_type": "code",
   "execution_count": 3,
   "metadata": {},
   "outputs": [],
   "source": [
    "slope, intercept, r_value, p_value, std_err = stats.linregress(x, y)"
   ]
  },
  {
   "cell_type": "code",
   "execution_count": 4,
   "metadata": {},
   "outputs": [
    {
     "name": "stdout",
     "output_type": "stream",
     "text": [
      "slope: -2.041571049817178\n",
      "intercept: 0.5244681175295574\n",
      "R_square: 0.7842076113863278\n",
      "p_value: 0.0\n",
      "std_err: 0.03390016113784865\n"
     ]
    }
   ],
   "source": [
    "print(f'slope: {slope}')\n",
    "print(f'intercept: {intercept}')\n",
    "print(f'R_square: {r_value**2}')\n",
    "print(f'p_value: {p_value}')\n",
    "print(f'std_err: {std_err}')"
   ]
  },
  {
   "cell_type": "code",
   "execution_count": 5,
   "metadata": {},
   "outputs": [
    {
     "data": {
      "image/png": "[encoded data removed]",
      "text/plain": [
       "<Figure size 432x288 with 1 Axes>"
      ]
     },
     "metadata": {
      "needs_background": "light"
     },
     "output_type": "display_data"
    }
   ],
   "source": [
    "fig, ax = plt.subplots(1,1)\n",
    "ax.scatter(x=x, y=y, edgecolors='white', c='black')\n",
    "ax.plot(x, slope*x+intercept, c='purple', linewidth=3)\n",
    "fig.savefig('data/lineregressongendata.jpeg', dpi=500)\n",
    "fig.savefig('data/lineregressongendata.svg')"
   ]
  },
  {
   "cell_type": "markdown",
   "metadata": {},
   "source": [
    "## Birth Data v.2"
   ]
  },
  {
   "cell_type": "code",
   "execution_count": 6,
   "metadata": {},
   "outputs": [
    {
     "data": {
      "text/html": [
       "<div>\n",
       "<style scoped>\n",
       "    .dataframe tbody tr th:only-of-type {\n",
       "        vertical-align: middle;\n",
       "    }\n",
       "\n",
       "    .dataframe tbody tr th {\n",
       "        vertical-align: top;\n",
       "    }\n",
       "\n",
       "    .dataframe thead th {\n",
       "        text-align: right;\n",
       "    }\n",
       "</style>\n",
       "<table border=\"1\" class=\"dataframe\">\n",
       "  <thead>\n",
       "    <tr style=\"text-align: right;\">\n",
       "      <th></th>\n",
       "      <th>Head</th>\n",
       "      <th>Chest</th>\n",
       "    </tr>\n",
       "  </thead>\n",
       "  <tbody>\n",
       "    <tr>\n",
       "      <th>1</th>\n",
       "      <td>31.0</td>\n",
       "      <td>30.0</td>\n",
       "    </tr>\n",
       "    <tr>\n",
       "      <th>2</th>\n",
       "      <td>36.0</td>\n",
       "      <td>35.3</td>\n",
       "    </tr>\n",
       "    <tr>\n",
       "      <th>3</th>\n",
       "      <td>33.0</td>\n",
       "      <td>34.0</td>\n",
       "    </tr>\n",
       "    <tr>\n",
       "      <th>4</th>\n",
       "      <td>35.0</td>\n",
       "      <td>36.0</td>\n",
       "    </tr>\n",
       "    <tr>\n",
       "      <th>5</th>\n",
       "      <td>34.0</td>\n",
       "      <td>35.0</td>\n",
       "    </tr>\n",
       "  </tbody>\n",
       "</table>\n",
       "</div>"
      ],
      "text/plain": [
       "   Head  Chest\n",
       "1  31.0   30.0\n",
       "2  36.0   35.3\n",
       "3  33.0   34.0\n",
       "4  35.0   36.0\n",
       "5  34.0   35.0"
      ]
     },
     "execution_count": 6,
     "metadata": {},
     "output_type": "execute_result"
    }
   ],
   "source": [
    "birth = pd.read_csv('data/02-birth.txt', sep='\\s+', skiprows=[13], header=13, usecols=['Head','Chest']) # sep='\\s+' - один и более пробелов\n",
    "birth.head()"
   ]
  },
  {
   "cell_type": "code",
   "execution_count": 7,
   "metadata": {},
   "outputs": [
    {
     "name": "stdout",
     "output_type": "stream",
     "text": [
      "slope: 0.7657985497168021\n",
      "intercept: 7.355994606092466\n",
      "R_square: 0.4469827321021256\n",
      "p_value: 3.804056856823327e-53\n",
      "std_err: 0.04269696218169263\n"
     ]
    }
   ],
   "source": [
    "slope, intercept, r_value, p_value, std_err = stats.linregress(birth.Head, birth.Chest)\n",
    "print(f'slope: {slope}')\n",
    "print(f'intercept: {intercept}')\n",
    "print(f'R_square: {r_value**2}')\n",
    "print(f'p_value: {p_value}')\n",
    "print(f'std_err: {std_err}')"
   ]
  },
  {
   "cell_type": "code",
   "execution_count": 8,
   "metadata": {},
   "outputs": [
    {
     "data": {
      "image/png": "[encoded data removed]",
      "text/plain": [
       "<Figure size 432x288 with 1 Axes>"
      ]
     },
     "metadata": {
      "needs_background": "light"
     },
     "output_type": "display_data"
    }
   ],
   "source": [
    "fig, ax = plt.subplots(1,1)\n",
    "ax.scatter(x=birth.Head, y=birth.Chest, c='k', edgecolors='white', label='scatter')\n",
    "ax.plot(x,slope*x+intercept, c='purple', linewidth = 3, label='linear regresion')\n",
    "ax.set_xlabel('Head')\n",
    "ax.set_ylabel('Chest')\n",
    "ax.set_title('birth regression model')\n",
    "ax.legend()\n",
    "fig.savefig('data/birth-regression-model.jpeg', dpi=500)\n",
    "fig.savefig('data/birth-regression-model.svg')"
   ]
  }
 ],
 "metadata": {
  "kernelspec": {
   "display_name": "Python 3",
   "language": "python",
   "name": "python3"
  },
  "language_info": {
   "codemirror_mode": {
    "name": "ipython",
    "version": 3
   },
   "file_extension": ".py",
   "mimetype": "text/x-python",
   "name": "python",
   "nbconvert_exporter": "python",
   "pygments_lexer": "ipython3",
   "version": "3.8.5"
  }
 },
 "nbformat": 4,
 "nbformat_minor": 4
}
