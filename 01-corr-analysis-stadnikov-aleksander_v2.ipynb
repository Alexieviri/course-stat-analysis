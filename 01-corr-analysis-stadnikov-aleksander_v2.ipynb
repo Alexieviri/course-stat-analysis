{
 "cells": [
  {
   "cell_type": "code",
   "execution_count": 1,
   "metadata": {},
   "outputs": [],
   "source": [
    "import numpy as np \n",
    "from scipy.stats import pearsonr\n",
    "import pandas as pd\n",
    "import matplotlib.pyplot as plt\n",
    "from scipy.stats import ttest_ind"
   ]
  },
  {
   "cell_type": "markdown",
   "metadata": {},
   "source": [
    "Входные данные: n объектов, каждый из которых характеризуется\n",
    "двумя числовыми признаками:\n",
    "Требуется исследовать степень взаимосвязи между двумя\n",
    "признаками некоторых объектов. Для каждого набора данных\n",
    "необходимо выполнить следующие задания.\n",
    "1. Визуализировать данные на плоскости в виде точек\n",
    "2. Статистически оценить коэффициент корреляции Пирсона\n",
    "между признаками x и y.\n",
    "3. Проверить статистическую гипотезу о некоррелированности\n",
    "признаков x и y на уровне значимости 0,05.\n",
    "Все описанные выше задания требуется выполнить для двух\n",
    "наборов данных.\n",
    "1. Смоделированные независимые случайные вектора\n",
    "имеющие гауссовское распределение с заданным математическим\n",
    "ожиданием 'a' и корреляционной матрицей 'R'.\n",
    "2. Реальные статистические данные из заданного набора\n",
    "(выдаются преподавателем).\n",
    "Отчёт кроме прочих обязательных элементов должен включать:\n",
    "1) изображения данных в виде точек на плоскости;\n",
    "2) статистические оценки коэффициентов корреляции Пирсона для\n",
    "каждого набора данных, сравнение статистической оценки\n",
    "коэффициента корреляции Пирсона с реальным коэффициентом\n",
    "корреляции Пирсона для смоделированных данных;"
   ]
  },
  {
   "cell_type": "code",
   "execution_count": 2,
   "metadata": {},
   "outputs": [
    {
     "data": {
      "text/plain": [
       "(1000,\n",
       " array([-1,  0]),\n",
       " array([[1. , 0.9],\n",
       "        [0.9, 2. ]]))"
      ]
     },
     "execution_count": 2,
     "metadata": {},
     "output_type": "execute_result"
    }
   ],
   "source": [
    "n = 1000\n",
    "a = np.array([-1, 0])\n",
    "r = np.array([[1, 0.9], [0.9, 2]])\n",
    "n, a, r"
   ]
  },
  {
   "cell_type": "code",
   "execution_count": 3,
   "metadata": {},
   "outputs": [
    {
     "data": {
      "text/plain": [
       "array([[-0.9337133 ,  0.66722389],\n",
       "       [-0.90023737, -1.22071056],\n",
       "       [-1.62094102, -1.10811572],\n",
       "       ...,\n",
       "       [-1.06579866,  0.3543697 ],\n",
       "       [-1.95614851, -1.61685092],\n",
       "       [-1.91279199, -1.44318618]])"
      ]
     },
     "execution_count": 3,
     "metadata": {},
     "output_type": "execute_result"
    }
   ],
   "source": [
    "gendata = np.random.multivariate_normal(mean=a, cov=r, size=n)\n",
    "gendata"
   ]
  },
  {
   "cell_type": "code",
   "execution_count": 4,
   "metadata": {},
   "outputs": [
    {
     "data": {
      "image/png": "[encoded data removed]",
      "text/plain": [
       "<Figure size 432x288 with 1 Axes>"
      ]
     },
     "metadata": {
      "needs_background": "light"
     },
     "output_type": "display_data"
    }
   ],
   "source": [
    "plt.scatter(x=gendata[:,0], y=gendata[:,1], c='black', edgecolors='white')\n",
    "plt.xlabel('X')\n",
    "plt.ylabel('Y')\n",
    "plt.savefig('data/multinoraml-dist-scatterplot.jpeg', dpi=500)\n",
    "plt.savefig('data/multinoraml-dist-scatterplot.svg')"
   ]
  },
  {
   "cell_type": "code",
   "execution_count": 5,
   "metadata": {},
   "outputs": [
    {
     "name": "stdout",
     "output_type": "stream",
     "text": [
      "corr coeff: 0.6317817518124901\n",
      "real correlation: 0.6363961030678927\n",
      "diff: -0.00461435125540266\n",
      "p-value: 1.6068303505446378e-112\n"
     ]
    }
   ],
   "source": [
    "corrpearson, p = pearsonr(x=gendata[:,0],y=gendata[:,1])\n",
    "print(f'corr coeff: {corrpearson}\\\n",
    "\\nreal correlation: {r[0, 1] / np.sqrt(r[0, 0] * r[1, 1])}\\\n",
    "\\ndiff: {corrpearson - r[0, 1] / np.sqrt(r[0, 0] * r[1, 1])}\\\n",
    "\\np-value: {p}')\n"
   ]
  },
  {
   "cell_type": "code",
   "execution_count": 6,
   "metadata": {},
   "outputs": [
    {
     "data": {
      "text/plain": [
       "Ttest_indResult(statistic=-19.74727168097967, pvalue=1.953493250259269e-79)"
      ]
     },
     "execution_count": 6,
     "metadata": {},
     "output_type": "execute_result"
    }
   ],
   "source": [
    "ttest_ind(gendata[:,0],gendata[:,1])"
   ]
  },
  {
   "cell_type": "code",
   "execution_count": 7,
   "metadata": {},
   "outputs": [
    {
     "data": {
      "text/html": [
       "<div>\n",
       "<style scoped>\n",
       "    .dataframe tbody tr th:only-of-type {\n",
       "        vertical-align: middle;\n",
       "    }\n",
       "\n",
       "    .dataframe tbody tr th {\n",
       "        vertical-align: top;\n",
       "    }\n",
       "\n",
       "    .dataframe thead th {\n",
       "        text-align: right;\n",
       "    }\n",
       "</style>\n",
       "<table border=\"1\" class=\"dataframe\">\n",
       "  <thead>\n",
       "    <tr style=\"text-align: right;\">\n",
       "      <th></th>\n",
       "      <th>Sex</th>\n",
       "      <th>Gestation</th>\n",
       "      <th>Weight</th>\n",
       "      <th>Length</th>\n",
       "      <th>Head</th>\n",
       "      <th>Chest</th>\n",
       "      <th>Mother.s.age</th>\n",
       "      <th>type</th>\n",
       "      <th>region</th>\n",
       "    </tr>\n",
       "  </thead>\n",
       "  <tbody>\n",
       "    <tr>\n",
       "      <th>1</th>\n",
       "      <td>female</td>\n",
       "      <td>40</td>\n",
       "      <td>2800</td>\n",
       "      <td>50.0</td>\n",
       "      <td>31.0</td>\n",
       "      <td>30.0</td>\n",
       "      <td>25</td>\n",
       "      <td>r</td>\n",
       "      <td>bz</td>\n",
       "    </tr>\n",
       "    <tr>\n",
       "      <th>2</th>\n",
       "      <td>female</td>\n",
       "      <td>38</td>\n",
       "      <td>3250</td>\n",
       "      <td>50.0</td>\n",
       "      <td>36.0</td>\n",
       "      <td>35.3</td>\n",
       "      <td>24</td>\n",
       "      <td>r</td>\n",
       "      <td>bz</td>\n",
       "    </tr>\n",
       "    <tr>\n",
       "      <th>3</th>\n",
       "      <td>male</td>\n",
       "      <td>39</td>\n",
       "      <td>3100</td>\n",
       "      <td>50.0</td>\n",
       "      <td>33.0</td>\n",
       "      <td>34.0</td>\n",
       "      <td>17</td>\n",
       "      <td>r</td>\n",
       "      <td>bz</td>\n",
       "    </tr>\n",
       "    <tr>\n",
       "      <th>4</th>\n",
       "      <td>male</td>\n",
       "      <td>40</td>\n",
       "      <td>4000</td>\n",
       "      <td>53.0</td>\n",
       "      <td>35.0</td>\n",
       "      <td>36.0</td>\n",
       "      <td>41</td>\n",
       "      <td>r</td>\n",
       "      <td>bz</td>\n",
       "    </tr>\n",
       "    <tr>\n",
       "      <th>5</th>\n",
       "      <td>male</td>\n",
       "      <td>40</td>\n",
       "      <td>3800</td>\n",
       "      <td>52.0</td>\n",
       "      <td>34.0</td>\n",
       "      <td>35.0</td>\n",
       "      <td>43</td>\n",
       "      <td>r</td>\n",
       "      <td>bz</td>\n",
       "    </tr>\n",
       "  </tbody>\n",
       "</table>\n",
       "</div>"
      ],
      "text/plain": [
       "      Sex  Gestation  Weight  Length  Head  Chest  Mother.s.age type region\n",
       "1  female         40    2800    50.0  31.0   30.0            25    r     bz\n",
       "2  female         38    3250    50.0  36.0   35.3            24    r     bz\n",
       "3    male         39    3100    50.0  33.0   34.0            17    r     bz\n",
       "4    male         40    4000    53.0  35.0   36.0            41    r     bz\n",
       "5    male         40    3800    52.0  34.0   35.0            43    r     bz"
      ]
     },
     "execution_count": 7,
     "metadata": {},
     "output_type": "execute_result"
    }
   ],
   "source": [
    "birth = pd.read_csv('data/02-birth.txt', sep='\\s+', skiprows=[13], header=13) # sep='\\s+' - один и более пробелов\n",
    "birth.head()"
   ]
  },
  {
   "cell_type": "code",
   "execution_count": 8,
   "metadata": {},
   "outputs": [
    {
     "data": {
      "image/png": "[encoded data removed]",
      "text/plain": [
       "<Figure size 432x288 with 1 Axes>"
      ]
     },
     "metadata": {
      "needs_background": "light"
     },
     "output_type": "display_data"
    }
   ],
   "source": [
    "plt.scatter(x=birth.Head, y=birth.Chest, c='black', edgecolors='white')\n",
    "plt.xlabel('Head')\n",
    "plt.ylabel('Chest')\n",
    "plt.savefig('data/birth-scatterplot.jpeg', dpi=500)\n",
    "plt.savefig('data/birth-scatterplot.svg')"
   ]
  },
  {
   "cell_type": "code",
   "execution_count": 9,
   "metadata": {},
   "outputs": [
    {
     "name": "stdout",
     "output_type": "stream",
     "text": [
      "corr coeff: 0.6685676720438418\n",
      "p-value: 3.804056856828032e-53\n"
     ]
    }
   ],
   "source": [
    "corrpearsonbirth, p = pearsonr(x=birth['Head'].values,y=birth['Chest'].values)\n",
    "print(f'corr coeff: {corrpearsonbirth}\\np-value: {p}')"
   ]
  },
  {
   "cell_type": "code",
   "execution_count": 10,
   "metadata": {},
   "outputs": [
    {
     "data": {
      "text/plain": [
       "Ttest_indResult(statistic=6.3472541812738195, pvalue=3.673477687821116e-10)"
      ]
     },
     "execution_count": 10,
     "metadata": {},
     "output_type": "execute_result"
    }
   ],
   "source": [
    "ttest_ind(birth['Head'].values, birth['Chest'].values)"
   ]
  }
 ],
 "metadata": {
  "kernelspec": {
   "display_name": "Python 3",
   "language": "python",
   "name": "python3"
  },
  "language_info": {
   "codemirror_mode": {
    "name": "ipython",
    "version": 3
   },
   "file_extension": ".py",
   "mimetype": "text/x-python",
   "name": "python",
   "nbconvert_exporter": "python",
   "pygments_lexer": "ipython3",
   "version": "3.8.5"
  }
 },
 "nbformat": 4,
 "nbformat_minor": 4
}
